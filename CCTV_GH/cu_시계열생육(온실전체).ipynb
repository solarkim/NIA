{
 "cells": [
  {
   "cell_type": "code",
   "execution_count": null,
   "id": "0e21092a",
   "metadata": {
    "collapsed": true
   },
   "outputs": [],
   "source": [
    "# output 초기화\n",
    "jupyter nbconvert --ClearOutputPreprocessor.enabled=True --inplace cctvsu.ipynb"
   ]
  },
  {
   "cell_type": "markdown",
   "id": "f95884b2",
   "metadata": {},
   "source": [
    "# cctv(자동)"
   ]
  },
  {
   "cell_type": "code",
   "execution_count": 1,
   "id": "4d6a678e",
   "metadata": {},
   "outputs": [
    {
     "name": "stdout",
     "output_type": "stream",
     "text": [
      "['.ipynb_checkpoints', 'cctv(자동오이).ipynb', 'data.yaml', 'images', 'label', 'labels', 'labels.cache', 'train.cache', 'train.txt', 'val.cache', 'val.cache.npy', 'val.txt']\n"
     ]
    },
    {
     "data": {
      "text/plain": [
       "'cctv(자동오이)-checkpoint.ipynb'"
      ]
     },
     "execution_count": 1,
     "metadata": {},
     "output_type": "execute_result"
    }
   ],
   "source": [
    "import os\n",
    "root_dir = 'C:\\\\Users\\\\user\\\\Desktop\\\\NIA_최종데이터_1207\\\\cctv(자동오이)\\\\'\n",
    "files = os.listdir(root_dir)\n",
    "print(files)\n",
    "files2 = os.listdir(root_dir+'\\\\'+files[0])\n",
    "files2[0]"
   ]
  },
  {
   "cell_type": "markdown",
   "id": "2bcd9307",
   "metadata": {},
   "source": [
    "## 이미지 이동"
   ]
  },
  {
   "cell_type": "code",
   "execution_count": null,
   "id": "34224664",
   "metadata": {
    "collapsed": true
   },
   "outputs": [],
   "source": [
    "# 라벨링 데이터 이동(copy)\n",
    "import shutil\n",
    "for ii in range(0,1):\n",
    "    files2 = os.listdir(root_dir+'\\\\'+files[ii])\n",
    "    for j in files2:\n",
    "        for i in range(len(root_dir+files[ii]+'\\\\'+j)):\n",
    "            print(os.listdir(root_dir+files[ii]+'\\\\'+j))\n",
    "            if len(os.listdir(root_dir+files[ii]+'\\\\'+j))==2:\n",
    "                label_d=os.listdir(root_dir+files[ii]+'\\\\'+j)[0]\n",
    "                print(label_d)\n",
    "                dir_init=root_dir+files[ii]+'\\\\'+j+'\\\\'+label_d\n",
    "                print(dir_init)\n",
    "                shutil.move(dir_init,\"C:\\\\Users\\\\user\\\\Desktop\\\\NIA_최종데이터_1207\\\\cctv(자동오이)\\\\images\") \n"
   ]
  },
  {
   "cell_type": "markdown",
   "id": "f6841bb1",
   "metadata": {},
   "source": [
    "## 라벨데이터 이동"
   ]
  },
  {
   "cell_type": "code",
   "execution_count": null,
   "id": "21cdb735",
   "metadata": {
    "collapsed": true
   },
   "outputs": [],
   "source": [
    "# 라벨링 데이터 이동(copy)\n",
    "import shutil\n",
    "for ii in range(0,1):\n",
    "    files2 = os.listdir(root_dir+'\\\\'+files[ii])\n",
    "    for j in files2:\n",
    "        for i in range(len(root_dir+files[ii]+'\\\\'+j)):\n",
    "#             print(os.listdir(root_dir+files[ii]+'\\\\'+j))\n",
    "            if len(os.listdir(root_dir+files[ii]+'\\\\'+j))==1:\n",
    "                label_d=os.listdir(root_dir+files[ii]+'\\\\'+j)[0]\n",
    "#                 print(label_d)\n",
    "                dir_init=root_dir+files[ii]+'\\\\'+j+'\\\\'+label_d\n",
    "#                 print(dir_init)\n",
    "                shutil.move(dir_init,\"C:\\\\Users\\\\user\\\\Desktop\\\\NIA_최종데이터_1207\\\\cctv(자동오이)\\\\labels\") \n"
   ]
  },
  {
   "cell_type": "markdown",
   "id": "adc461cb",
   "metadata": {},
   "source": [
    "## json 파일 type '사각형' -> bbox 수정"
   ]
  },
  {
   "cell_type": "code",
   "execution_count": null,
   "id": "6edfc1e2",
   "metadata": {
    "collapsed": true
   },
   "outputs": [],
   "source": [
    "import json\n",
    "\n",
    "file_path = \"C:\\\\Users\\\\user\\\\Desktop\\\\NIA_최종데이터_1207\\\\cctv(자동오이)\\\\labels\\\\\"\n",
    "for i in os.listdir(file_path):\n",
    "#     print(i)\n",
    "#     print(file_path+i)\n",
    "    pathupdate=file_path+i\n",
    "    with open(pathupdate, 'r', encoding='UTF-8') as f:\n",
    "        print(f)\n",
    "        json_data = json.load(f)\n",
    "        for j in range(len(json_data[\"result\"])):\n",
    "            json_data[\"result\"][j]['type']=\"bbox\"\n",
    "    with open(pathupdate, 'w', encoding='UTF-8') as f:\n",
    "        json.dump(json_data, f,ensure_ascii=False, indent=\"\\t\")"
   ]
  },
  {
   "cell_type": "markdown",
   "id": "475a1e3d",
   "metadata": {},
   "source": [
    "## segmentation 수정 코드"
   ]
  },
  {
   "cell_type": "code",
   "execution_count": null,
   "id": "828d7b0c",
   "metadata": {
    "collapsed": true
   },
   "outputs": [],
   "source": [
    "# file_path = \"C:\\\\Users\\\\user\\\\Desktop\\\\오이생육\\\\cucumber\\\\label\\\\\"\n",
    "# for i in os.listdir(file_path):\n",
    "#     print(i)\n",
    "#     pathupdate=file_path+i\n",
    "#     with open(pathupdate, 'r', encoding='UTF-8') as f:\n",
    "#         json_data = json.load(f)\n",
    "#         for j in range(len(json_data[\"result\"])):\n",
    "#             if \"points\" in json_data[\"result\"][j]:\n",
    "#                 json_data[\"result\"][j]['segmentation']=json_data[\"result\"][j].pop('points')\n",
    "#     with open(pathupdate, 'w', encoding='UTF-8') as f:\n",
    "#         json.dump(json_data, f, ensure_ascii=False,indent=\"\\t\")"
   ]
  },
  {
   "cell_type": "markdown",
   "id": "9c163a23",
   "metadata": {},
   "source": [
    "# 라벨링 데이터 통계"
   ]
  },
  {
   "cell_type": "code",
   "execution_count": 2,
   "id": "116cd08f",
   "metadata": {},
   "outputs": [
    {
     "data": {
      "text/plain": [
       "'V003_2_3_1_1_3_1_1_1_0_0_20220728_100_20220925004517.txt'"
      ]
     },
     "execution_count": 2,
     "metadata": {},
     "output_type": "execute_result"
    }
   ],
   "source": [
    "import os\n",
    "root_dir = 'C:\\\\Users\\\\user\\\\Desktop\\\\NIA_최종데이터_1207\\\\cctv(자동오이)\\\\labels\\\\'\n",
    "files = os.listdir(root_dir)\n",
    "files[0]"
   ]
  },
  {
   "cell_type": "markdown",
   "id": "52206079",
   "metadata": {},
   "source": [
    "## bbox 통계"
   ]
  },
  {
   "cell_type": "code",
   "execution_count": 3,
   "id": "1d89fdb5",
   "metadata": {},
   "outputs": [
    {
     "ename": "JSONDecodeError",
     "evalue": "Extra data: line 1 column 3 (char 2)",
     "output_type": "error",
     "traceback": [
      "\u001b[1;31m---------------------------------------------------------------------------\u001b[0m",
      "\u001b[1;31mJSONDecodeError\u001b[0m                           Traceback (most recent call last)",
      "Cell \u001b[1;32mIn [3], line 7\u001b[0m\n\u001b[0;32m      4\u001b[0m     pathupdate\u001b[38;5;241m=\u001b[39mroot_dir\u001b[38;5;241m+\u001b[39mi\n\u001b[0;32m      5\u001b[0m     \u001b[38;5;28;01mwith\u001b[39;00m \u001b[38;5;28mopen\u001b[39m(pathupdate, \u001b[38;5;124m'\u001b[39m\u001b[38;5;124mr\u001b[39m\u001b[38;5;124m'\u001b[39m, encoding\u001b[38;5;241m=\u001b[39m\u001b[38;5;124m'\u001b[39m\u001b[38;5;124mUTF-8\u001b[39m\u001b[38;5;124m'\u001b[39m) \u001b[38;5;28;01mas\u001b[39;00m f:\n\u001b[0;32m      6\u001b[0m \u001b[38;5;66;03m#         print(f)\u001b[39;00m\n\u001b[1;32m----> 7\u001b[0m         json_data \u001b[38;5;241m=\u001b[39m \u001b[43mjson\u001b[49m\u001b[38;5;241;43m.\u001b[39;49m\u001b[43mload\u001b[49m\u001b[43m(\u001b[49m\u001b[43mf\u001b[49m\u001b[43m)\u001b[49m\n\u001b[0;32m      8\u001b[0m         \u001b[38;5;28;01mfor\u001b[39;00m j \u001b[38;5;129;01min\u001b[39;00m \u001b[38;5;28mrange\u001b[39m(\u001b[38;5;28mlen\u001b[39m(json_data[\u001b[38;5;124m\"\u001b[39m\u001b[38;5;124mresult\u001b[39m\u001b[38;5;124m\"\u001b[39m])):\n\u001b[0;32m      9\u001b[0m             ctau_bbox\u001b[38;5;241m.\u001b[39mappend(json_data[\u001b[38;5;124m\"\u001b[39m\u001b[38;5;124mresult\u001b[39m\u001b[38;5;124m\"\u001b[39m][j][\u001b[38;5;124m\"\u001b[39m\u001b[38;5;124mattrb\u001b[39m\u001b[38;5;124m\"\u001b[39m])\n",
      "File \u001b[1;32m~\\.conda\\envs\\yolov5\\lib\\json\\__init__.py:293\u001b[0m, in \u001b[0;36mload\u001b[1;34m(fp, cls, object_hook, parse_float, parse_int, parse_constant, object_pairs_hook, **kw)\u001b[0m\n\u001b[0;32m    274\u001b[0m \u001b[38;5;28;01mdef\u001b[39;00m \u001b[38;5;21mload\u001b[39m(fp, \u001b[38;5;241m*\u001b[39m, \u001b[38;5;28mcls\u001b[39m\u001b[38;5;241m=\u001b[39m\u001b[38;5;28;01mNone\u001b[39;00m, object_hook\u001b[38;5;241m=\u001b[39m\u001b[38;5;28;01mNone\u001b[39;00m, parse_float\u001b[38;5;241m=\u001b[39m\u001b[38;5;28;01mNone\u001b[39;00m,\n\u001b[0;32m    275\u001b[0m         parse_int\u001b[38;5;241m=\u001b[39m\u001b[38;5;28;01mNone\u001b[39;00m, parse_constant\u001b[38;5;241m=\u001b[39m\u001b[38;5;28;01mNone\u001b[39;00m, object_pairs_hook\u001b[38;5;241m=\u001b[39m\u001b[38;5;28;01mNone\u001b[39;00m, \u001b[38;5;241m*\u001b[39m\u001b[38;5;241m*\u001b[39mkw):\n\u001b[0;32m    276\u001b[0m     \u001b[38;5;124;03m\"\"\"Deserialize ``fp`` (a ``.read()``-supporting file-like object containing\u001b[39;00m\n\u001b[0;32m    277\u001b[0m \u001b[38;5;124;03m    a JSON document) to a Python object.\u001b[39;00m\n\u001b[0;32m    278\u001b[0m \n\u001b[1;32m   (...)\u001b[0m\n\u001b[0;32m    291\u001b[0m \u001b[38;5;124;03m    kwarg; otherwise ``JSONDecoder`` is used.\u001b[39;00m\n\u001b[0;32m    292\u001b[0m \u001b[38;5;124;03m    \"\"\"\u001b[39;00m\n\u001b[1;32m--> 293\u001b[0m     \u001b[38;5;28;01mreturn\u001b[39;00m \u001b[43mloads\u001b[49m\u001b[43m(\u001b[49m\u001b[43mfp\u001b[49m\u001b[38;5;241;43m.\u001b[39;49m\u001b[43mread\u001b[49m\u001b[43m(\u001b[49m\u001b[43m)\u001b[49m\u001b[43m,\u001b[49m\n\u001b[0;32m    294\u001b[0m \u001b[43m        \u001b[49m\u001b[38;5;28;43mcls\u001b[39;49m\u001b[38;5;241;43m=\u001b[39;49m\u001b[38;5;28;43mcls\u001b[39;49m\u001b[43m,\u001b[49m\u001b[43m \u001b[49m\u001b[43mobject_hook\u001b[49m\u001b[38;5;241;43m=\u001b[39;49m\u001b[43mobject_hook\u001b[49m\u001b[43m,\u001b[49m\n\u001b[0;32m    295\u001b[0m \u001b[43m        \u001b[49m\u001b[43mparse_float\u001b[49m\u001b[38;5;241;43m=\u001b[39;49m\u001b[43mparse_float\u001b[49m\u001b[43m,\u001b[49m\u001b[43m \u001b[49m\u001b[43mparse_int\u001b[49m\u001b[38;5;241;43m=\u001b[39;49m\u001b[43mparse_int\u001b[49m\u001b[43m,\u001b[49m\n\u001b[0;32m    296\u001b[0m \u001b[43m        \u001b[49m\u001b[43mparse_constant\u001b[49m\u001b[38;5;241;43m=\u001b[39;49m\u001b[43mparse_constant\u001b[49m\u001b[43m,\u001b[49m\u001b[43m \u001b[49m\u001b[43mobject_pairs_hook\u001b[49m\u001b[38;5;241;43m=\u001b[39;49m\u001b[43mobject_pairs_hook\u001b[49m\u001b[43m,\u001b[49m\u001b[43m \u001b[49m\u001b[38;5;241;43m*\u001b[39;49m\u001b[38;5;241;43m*\u001b[39;49m\u001b[43mkw\u001b[49m\u001b[43m)\u001b[49m\n",
      "File \u001b[1;32m~\\.conda\\envs\\yolov5\\lib\\json\\__init__.py:357\u001b[0m, in \u001b[0;36mloads\u001b[1;34m(s, cls, object_hook, parse_float, parse_int, parse_constant, object_pairs_hook, **kw)\u001b[0m\n\u001b[0;32m    352\u001b[0m     \u001b[38;5;28;01mdel\u001b[39;00m kw[\u001b[38;5;124m'\u001b[39m\u001b[38;5;124mencoding\u001b[39m\u001b[38;5;124m'\u001b[39m]\n\u001b[0;32m    354\u001b[0m \u001b[38;5;28;01mif\u001b[39;00m (\u001b[38;5;28mcls\u001b[39m \u001b[38;5;129;01mis\u001b[39;00m \u001b[38;5;28;01mNone\u001b[39;00m \u001b[38;5;129;01mand\u001b[39;00m object_hook \u001b[38;5;129;01mis\u001b[39;00m \u001b[38;5;28;01mNone\u001b[39;00m \u001b[38;5;129;01mand\u001b[39;00m\n\u001b[0;32m    355\u001b[0m         parse_int \u001b[38;5;129;01mis\u001b[39;00m \u001b[38;5;28;01mNone\u001b[39;00m \u001b[38;5;129;01mand\u001b[39;00m parse_float \u001b[38;5;129;01mis\u001b[39;00m \u001b[38;5;28;01mNone\u001b[39;00m \u001b[38;5;129;01mand\u001b[39;00m\n\u001b[0;32m    356\u001b[0m         parse_constant \u001b[38;5;129;01mis\u001b[39;00m \u001b[38;5;28;01mNone\u001b[39;00m \u001b[38;5;129;01mand\u001b[39;00m object_pairs_hook \u001b[38;5;129;01mis\u001b[39;00m \u001b[38;5;28;01mNone\u001b[39;00m \u001b[38;5;129;01mand\u001b[39;00m \u001b[38;5;129;01mnot\u001b[39;00m kw):\n\u001b[1;32m--> 357\u001b[0m     \u001b[38;5;28;01mreturn\u001b[39;00m \u001b[43m_default_decoder\u001b[49m\u001b[38;5;241;43m.\u001b[39;49m\u001b[43mdecode\u001b[49m\u001b[43m(\u001b[49m\u001b[43ms\u001b[49m\u001b[43m)\u001b[49m\n\u001b[0;32m    358\u001b[0m \u001b[38;5;28;01mif\u001b[39;00m \u001b[38;5;28mcls\u001b[39m \u001b[38;5;129;01mis\u001b[39;00m \u001b[38;5;28;01mNone\u001b[39;00m:\n\u001b[0;32m    359\u001b[0m     \u001b[38;5;28mcls\u001b[39m \u001b[38;5;241m=\u001b[39m JSONDecoder\n",
      "File \u001b[1;32m~\\.conda\\envs\\yolov5\\lib\\json\\decoder.py:340\u001b[0m, in \u001b[0;36mJSONDecoder.decode\u001b[1;34m(self, s, _w)\u001b[0m\n\u001b[0;32m    338\u001b[0m end \u001b[38;5;241m=\u001b[39m _w(s, end)\u001b[38;5;241m.\u001b[39mend()\n\u001b[0;32m    339\u001b[0m \u001b[38;5;28;01mif\u001b[39;00m end \u001b[38;5;241m!=\u001b[39m \u001b[38;5;28mlen\u001b[39m(s):\n\u001b[1;32m--> 340\u001b[0m     \u001b[38;5;28;01mraise\u001b[39;00m JSONDecodeError(\u001b[38;5;124m\"\u001b[39m\u001b[38;5;124mExtra data\u001b[39m\u001b[38;5;124m\"\u001b[39m, s, end)\n\u001b[0;32m    341\u001b[0m \u001b[38;5;28;01mreturn\u001b[39;00m obj\n",
      "\u001b[1;31mJSONDecodeError\u001b[0m: Extra data: line 1 column 3 (char 2)"
     ]
    }
   ],
   "source": [
    "import json\n",
    "ctau_bbox=[]\n",
    "for i in os.listdir(root_dir):\n",
    "    pathupdate=root_dir+i\n",
    "    with open(pathupdate, 'r', encoding='UTF-8') as f:\n",
    "#         print(f)\n",
    "        json_data = json.load(f)\n",
    "        for j in range(len(json_data[\"result\"])):\n",
    "            ctau_bbox.append(json_data[\"result\"][j][\"attrb\"])\n",
    "#             if \"attrb\" not in json_data[\"result\"][j]:\n",
    "#                 sick_bbox.append(json_data[\"result\"][j][\"attrb\"])\n"
   ]
  },
  {
   "cell_type": "code",
   "execution_count": 31,
   "id": "c347975f",
   "metadata": {
    "collapsed": true
   },
   "outputs": [],
   "source": [
    "ctau_bbox_set=list(set(ctau_bbox))"
   ]
  },
  {
   "cell_type": "code",
   "execution_count": 32,
   "id": "53fb4e00",
   "metadata": {},
   "outputs": [
    {
     "name": "stdout",
     "output_type": "stream",
     "text": [
      "꽃 : 27199\n",
      "성숙과 : 126991\n",
      "미성숙과 : 1054\n",
      "생장점 : 3335\n"
     ]
    }
   ],
   "source": [
    "ctau_count=[]\n",
    "for i in ctau_bbox_set:\n",
    "    ctau_count.append(ctau_bbox.count(i))\n",
    "    print(\"{} : {}\".format(i,ctau_bbox.count(i)))"
   ]
  },
  {
   "cell_type": "code",
   "execution_count": 33,
   "id": "bb343e8e",
   "metadata": {
    "collapsed": true
   },
   "outputs": [
    {
     "data": {
      "text/plain": [
       "158579"
      ]
     },
     "execution_count": 33,
     "metadata": {},
     "output_type": "execute_result"
    }
   ],
   "source": [
    "sum(ctau_count)"
   ]
  },
  {
   "cell_type": "code",
   "execution_count": 35,
   "id": "c7bb7e48",
   "metadata": {
    "collapsed": true
   },
   "outputs": [
    {
     "data": {
      "text/html": [
       "<div>\n",
       "<style scoped>\n",
       "    .dataframe tbody tr th:only-of-type {\n",
       "        vertical-align: middle;\n",
       "    }\n",
       "\n",
       "    .dataframe tbody tr th {\n",
       "        vertical-align: top;\n",
       "    }\n",
       "\n",
       "    .dataframe thead th {\n",
       "        text-align: right;\n",
       "    }\n",
       "</style>\n",
       "<table border=\"1\" class=\"dataframe\">\n",
       "  <thead>\n",
       "    <tr style=\"text-align: right;\">\n",
       "      <th></th>\n",
       "      <th>분류</th>\n",
       "      <th>개수</th>\n",
       "    </tr>\n",
       "  </thead>\n",
       "  <tbody>\n",
       "    <tr>\n",
       "      <th>0</th>\n",
       "      <td>꽃</td>\n",
       "      <td>27199</td>\n",
       "    </tr>\n",
       "    <tr>\n",
       "      <th>1</th>\n",
       "      <td>성숙과</td>\n",
       "      <td>126991</td>\n",
       "    </tr>\n",
       "    <tr>\n",
       "      <th>2</th>\n",
       "      <td>미성숙과</td>\n",
       "      <td>1054</td>\n",
       "    </tr>\n",
       "    <tr>\n",
       "      <th>3</th>\n",
       "      <td>생장점</td>\n",
       "      <td>3335</td>\n",
       "    </tr>\n",
       "  </tbody>\n",
       "</table>\n",
       "</div>"
      ],
      "text/plain": [
       "     분류      개수\n",
       "0     꽃   27199\n",
       "1   성숙과  126991\n",
       "2  미성숙과    1054\n",
       "3   생장점    3335"
      ]
     },
     "execution_count": 35,
     "metadata": {},
     "output_type": "execute_result"
    }
   ],
   "source": [
    "import pandas as pd\n",
    "ctau_count\n",
    "ctau_df=pd.DataFrame({\"분류\":ctau_bbox_set,\"개수\":ctau_count})\n",
    "ctau_df"
   ]
  },
  {
   "cell_type": "code",
   "execution_count": 37,
   "id": "2d72de86",
   "metadata": {
    "collapsed": true
   },
   "outputs": [
    {
     "data": {
      "image/png": "[encoded data removed]",
      "text/plain": [
       "<Figure size 640x480 with 1 Axes>"
      ]
     },
     "metadata": {},
     "output_type": "display_data"
    }
   ],
   "source": [
    "import seaborn as sns\n",
    "import matplotlib.pyplot as plt\n",
    "import matplotlib\n",
    "\n",
    "matplotlib.rcParams['font.family'] ='Malgun Gothic'\n",
    "\n",
    "matplotlib.rcParams['axes.unicode_minus'] =False\n",
    "g=sns.barplot(data=ctau_df, x=\"분류\", y=\"개수\", ci=None,\n",
    "            dodge=False,palette='pastel',linewidth=2,edgecolor=\".1\")\n",
    "ax = g\n",
    "\n",
    "#annotate axis = seaborn axis \n",
    "for p in ax.patches: \n",
    "    ax.annotate(\"%d\" % p.get_height(), (p.get_x() + p.get_width()/2., p.get_height()), \n",
    "       ha='center', va='center', fontsize=10, color='black', xytext=(0, 5), \n",
    "       textcoords='offset points') \n",
    "\n",
    "plt.xticks(fontsize=12)\n",
    "\n",
    "plt.title(\"cctv 자동 클래스 분포\")\n",
    "plt.show()"
   ]
  },
  {
   "cell_type": "markdown",
   "id": "81485a29",
   "metadata": {},
   "source": [
    "## class 이상 확인 후 normalxclass list에 담기"
   ]
  },
  {
   "cell_type": "code",
   "execution_count": null,
   "id": "7a38c3a1",
   "metadata": {
    "collapsed": true
   },
   "outputs": [],
   "source": [
    "# import json\n",
    "\n",
    "# normalxclass=[]\n",
    "# file_path = \"C:\\\\Users\\\\user\\\\Desktop\\\\NIA_최종데이터_1207\\\\해충트랩\\\\해충\\\\label\\\\\"\n",
    "# for i in os.listdir(file_path):\n",
    "# #     print(i)\n",
    "# #     print(file_path+i)\n",
    "#     pathupdate=file_path+i\n",
    "#     with open(pathupdate, 'r', encoding='UTF-8') as f:\n",
    "#         json_data = json.load(f)\n",
    "#         for j in range(len(json_data[\"result\"])):\n",
    "#             if json_data[\"result\"][j]['attrb']==\"\":\n",
    "#                  del json_data[\"result\"][j]\n",
    "#     with open(pathupdate, 'w', encoding='UTF-8') as f:\n",
    "#         json.dump(json_data, f,ensure_ascii=False, indent=\"\\t\")"
   ]
  },
  {
   "cell_type": "code",
   "execution_count": 24,
   "id": "9d1732e3",
   "metadata": {
    "collapsed": true
   },
   "outputs": [],
   "source": [
    "import json\n",
    "\n",
    "normalxclass=[]\n",
    "file_path = \"C:\\\\Users\\\\user\\\\Desktop\\\\NIA_최종데이터_1207\\\\cctv(자동오이)\\\\label\\\\\"\n",
    "for i in os.listdir(file_path):\n",
    "#     print(i)\n",
    "#     print(file_path+i)\n",
    "    pathupdate=file_path+i\n",
    "    with open(pathupdate, 'r', encoding='UTF-8') as f:\n",
    "        json_data = json.load(f)\n",
    "        for j in range(len(json_data[\"result\"])):\n",
    "            if json_data[\"result\"][j]['attrb']==\"꽃, 미성숙과\":\n",
    "#                 json_data[\"result\"][j]['attrb']=\"성숙과\"\n",
    "#     with open(pathupdate, 'w', encoding='UTF-8') as f:\n",
    "#         json.dump(json_data, f,ensure_ascii=False, indent=\"\\t\")\n",
    "                normalxclass.append(str(f).split('\\\\')[-1].split('.')[0])"
   ]
  },
  {
   "cell_type": "code",
   "execution_count": 25,
   "id": "d85dc833",
   "metadata": {
    "collapsed": true
   },
   "outputs": [
    {
     "data": {
      "text/plain": [
       "['V003_2_3_1_1_4_1_1_1_0_0_20220722_1677_20220922021419',\n",
       " 'V003_2_3_1_1_4_1_1_1_0_0_20220722_1699_20220922021510',\n",
       " 'V003_2_3_1_1_4_1_1_1_0_0_20220722_1853_20220922021621',\n",
       " 'V003_2_3_1_1_4_1_1_1_0_0_20220722_2161_20220922022017']"
      ]
     },
     "execution_count": 25,
     "metadata": {},
     "output_type": "execute_result"
    }
   ],
   "source": [
    "normalxclass"
   ]
  },
  {
   "cell_type": "markdown",
   "id": "e8c9d9bb",
   "metadata": {},
   "source": [
    "## 이상 클래스 이미지 파일 제거"
   ]
  },
  {
   "cell_type": "code",
   "execution_count": 26,
   "id": "c80f51b1",
   "metadata": {
    "collapsed": true
   },
   "outputs": [],
   "source": [
    "import shutil\n",
    "pestimg=os.listdir('C:\\\\Users\\\\user\\\\Desktop\\\\NIA_최종데이터_1207\\\\cctv(자동오이)\\\\images\\\\')\n",
    "for j in normalxclass:\n",
    "    for i in range(len(pestimg)):\n",
    "        if pestimg[i].split('.')[0]==j:\n",
    "            os.remove('C:\\\\Users\\\\user\\\\Desktop\\\\NIA_최종데이터_1207\\\\cctv(자동오이)\\\\images\\\\'+pestimg[i])"
   ]
  },
  {
   "cell_type": "markdown",
   "id": "1583cddb",
   "metadata": {},
   "source": [
    "## 폴더 파일개수 확인"
   ]
  },
  {
   "cell_type": "code",
   "execution_count": 27,
   "id": "4fd0b2a4",
   "metadata": {
    "collapsed": true
   },
   "outputs": [
    {
     "data": {
      "text/plain": [
       "86861"
      ]
     },
     "execution_count": 27,
     "metadata": {},
     "output_type": "execute_result"
    }
   ],
   "source": [
    "len(os.listdir('C:\\\\Users\\\\user\\\\Desktop\\\\NIA_최종데이터_1207\\\\cctv(자동오이)\\\\images\\\\'))"
   ]
  },
  {
   "cell_type": "markdown",
   "id": "cb807bba",
   "metadata": {},
   "source": [
    "## 이상 클래스 라벨링 파일 제거"
   ]
  },
  {
   "cell_type": "code",
   "execution_count": 28,
   "id": "38797906",
   "metadata": {
    "collapsed": true
   },
   "outputs": [],
   "source": [
    "import shutil\n",
    "pestimg=os.listdir('C:\\\\Users\\\\user\\\\Desktop\\\\NIA_최종데이터_1207\\\\cctv(자동오이)\\\\labels\\\\')\n",
    "for j in normalxclass:\n",
    "    for i in range(len(pestimg)):\n",
    "        if pestimg[i].split('.')[0]==j:\n",
    "            os.remove('C:\\\\Users\\\\user\\\\Desktop\\\\NIA_최종데이터_1207\\\\cctv(자동오이)\\\\labels\\\\'+pestimg[i])"
   ]
  },
  {
   "cell_type": "markdown",
   "id": "9aa5dde4",
   "metadata": {},
   "source": [
    "## 폴더 파일개수 확인"
   ]
  },
  {
   "cell_type": "code",
   "execution_count": 29,
   "id": "4962bc57",
   "metadata": {
    "collapsed": true
   },
   "outputs": [
    {
     "data": {
      "text/plain": [
       "86861"
      ]
     },
     "execution_count": 29,
     "metadata": {},
     "output_type": "execute_result"
    }
   ],
   "source": [
    "len(os.listdir('C:\\\\Users\\\\user\\\\Desktop\\\\NIA_최종데이터_1207\\\\cctv(자동오이)\\\\labels\\\\'))"
   ]
  },
  {
   "cell_type": "markdown",
   "id": "94da438a",
   "metadata": {},
   "source": [
    "## 이상 class명 수정"
   ]
  },
  {
   "cell_type": "code",
   "execution_count": null,
   "id": "090dbf5d",
   "metadata": {
    "collapsed": true
   },
   "outputs": [],
   "source": [
    "# import json\n",
    "\n",
    "# file_path = \"C:\\\\Users\\\\user\\\\Desktop\\\\NIA_최종데이터_1207\\\\cctv(자동오이)\\\\label\\\\\"\n",
    "# for i in os.listdir(file_path):\n",
    "# #     print(i)\n",
    "# #     print(file_path+i)\n",
    "#     pathupdate=file_path+i\n",
    "#     with open(pathupdate, 'r', encoding='UTF-8') as f:\n",
    "#         json_data = json.load(f)\n",
    "#         for j in range(len(json_data[\"result\"])):\n",
    "#             if json_data[\"result\"][j]['attrb']==\"\":\n",
    "#                 print(f)\n",
    "#                 json_data[\"result\"][j]['attrb']=\"\"\n",
    "#     with open(pathupdate, 'w', encoding='UTF-8') as f:\n",
    "#         json.dump(json_data, f,ensure_ascii=False, indent=\"\\t\")"
   ]
  },
  {
   "cell_type": "code",
   "execution_count": null,
   "id": "55617422",
   "metadata": {
    "collapsed": true
   },
   "outputs": [],
   "source": []
  },
  {
   "cell_type": "markdown",
   "id": "6ff8c9f3",
   "metadata": {},
   "source": [
    "# cctv 자동 yolov5"
   ]
  },
  {
   "cell_type": "code",
   "execution_count": 40,
   "id": "82b38ab7",
   "metadata": {
    "collapsed": true
   },
   "outputs": [],
   "source": [
    "import os\n",
    "import glob\n",
    "from PIL import Image\n",
    "# import os\n",
    "# os.environ['KMP_DUPLICATE_LIB_OK']='True'"
   ]
  },
  {
   "cell_type": "markdown",
   "id": "6f3cf9d6",
   "metadata": {},
   "source": [
    "## 이미지 크기 통일"
   ]
  },
  {
   "cell_type": "code",
   "execution_count": null,
   "id": "4a7c558f",
   "metadata": {
    "collapsed": true
   },
   "outputs": [],
   "source": [
    "\n",
    "# import os\n",
    "# import glob\n",
    "# from PIL import Image\n",
    "\n",
    "# files = glob.glob('C:\\\\Users\\\\user\\\\Desktop\\\\trap\\\\export\\\\images\\\\*')\n",
    "\n",
    "# for f in files:\n",
    "#     title, ext = os.path.splitext(f)\n",
    "#     if ext in ['.jpg', '.png']:\n",
    "#         img = Image.open(f)\n",
    "#         img_resize = img.resize((256,256))\n",
    "#         # print(title + ext)\n",
    "#         img_resize.save(title + ext)\n"
   ]
  },
  {
   "cell_type": "code",
   "execution_count": 42,
   "id": "e76237bb",
   "metadata": {
    "collapsed": true
   },
   "outputs": [
    {
     "name": "stderr",
     "output_type": "stream",
     "text": [
      "IOPub data rate exceeded.\n",
      "The notebook server will temporarily stop sending output\n",
      "to the client in order to avoid crashing it.\n",
      "To change this limit, set the config variable\n",
      "`--NotebookApp.iopub_data_rate_limit`.\n",
      "\n",
      "Current values:\n",
      "NotebookApp.iopub_data_rate_limit=1000000.0 (bytes/sec)\n",
      "NotebookApp.rate_limit_window=3.0 (secs)\n",
      "\n"
     ]
    },
    {
     "data": {
      "text/plain": [
       "'V003_2_3_1_1_3_1_1_1_0_0_20220728_100_20220925004517.json'"
      ]
     },
     "execution_count": 42,
     "metadata": {},
     "output_type": "execute_result"
    }
   ],
   "source": [
    "import os\n",
    "root_dir = 'C:\\\\Users\\\\user\\\\Desktop\\\\NIA_최종데이터_1207\\\\cctv(자동오이)\\\\label\\\\'\n",
    "dir_list=os.listdir(root_dir)\n",
    "print(dir_list)\n",
    "print(dir_list[0])\n",
    "print(dir_list[0].split('.'))\n",
    "print(dir_list[0].split('.')[0])\n",
    "files = os.listdir(root_dir)\n",
    "files[0]"
   ]
  },
  {
   "cell_type": "markdown",
   "id": "1e1fc3ff",
   "metadata": {},
   "source": [
    "## 이미지 파일 읽어오기"
   ]
  },
  {
   "cell_type": "code",
   "execution_count": 43,
   "id": "5f3793f4",
   "metadata": {
    "collapsed": true
   },
   "outputs": [
    {
     "name": "stdout",
     "output_type": "stream",
     "text": [
      "Windows-10-10.0.19045-SP0\n",
      "[[[ 88  99  83]\n",
      "  [ 86  97  81]\n",
      "  [ 88  98  82]\n",
      "  ...\n",
      "  [ 57  79  60]\n",
      "  [ 58  80  61]\n",
      "  [ 59  81  62]]\n",
      "\n",
      " [[ 89 100  84]\n",
      "  [ 91 102  86]\n",
      "  [ 93 104  88]\n",
      "  ...\n",
      "  [ 58  80  61]\n",
      "  [ 58  80  61]\n",
      "  [ 56  81  61]]\n",
      "\n",
      " [[117 128 112]\n",
      "  [119 130 114]\n",
      "  [117 128 112]\n",
      "  ...\n",
      "  [ 55  80  60]\n",
      "  [ 54  79  59]\n",
      "  [ 53  78  58]]\n",
      "\n",
      " ...\n",
      "\n",
      " [[190 185 187]\n",
      "  [191 186 188]\n",
      "  [192 187 189]\n",
      "  ...\n",
      "  [177 164 172]\n",
      "  [167 154 162]\n",
      "  [162 149 157]]\n",
      "\n",
      " [[189 184 186]\n",
      "  [190 185 187]\n",
      "  [192 187 189]\n",
      "  ...\n",
      "  [164 151 159]\n",
      "  [152 139 147]\n",
      "  [145 132 140]]\n",
      "\n",
      " [[188 183 185]\n",
      "  [189 184 186]\n",
      "  [190 185 187]\n",
      "  ...\n",
      "  [160 147 155]\n",
      "  [149 136 144]\n",
      "  [141 128 136]]]\n",
      "(600, 800, 3)\n"
     ]
    }
   ],
   "source": [
    "import pickle\n",
    "import cv2\n",
    "import numpy as np\n",
    "import platform\n",
    "\n",
    "## 경로에 한글포함이면 decoding 해줘야함\n",
    "def hangulFilePathImageRead ( filePath ) :\n",
    "\n",
    "    stream = open( filePath.encode(\"utf-8\") , \"rb\")\n",
    "    bytes = bytearray(stream.read())\n",
    "    numpyArray = np.asarray(bytes, dtype=np.uint8)\n",
    "\n",
    "    return cv2.imdecode(numpyArray , cv2.IMREAD_UNCHANGED)\n",
    "\n",
    "\n",
    "if __name__ == '__main__':\n",
    "    # OS Platform 정보\n",
    "    print(platform.platform())\n",
    "\n",
    "    filePath = 'C:\\\\Users\\\\user\\\\Desktop\\\\NIA_최종데이터_1207\\\\cctv(자동오이)\\\\images\\\\'+dir_list[1].split(\".\")[0]+'.jpg'\n",
    "\n",
    "    fileData = hangulFilePathImageRead(filePath)\n",
    "    print(fileData)\n",
    "    print(fileData.shape)"
   ]
  },
  {
   "cell_type": "markdown",
   "id": "ea6a224f",
   "metadata": {},
   "source": [
    "## 이미지 파일 shape 도출"
   ]
  },
  {
   "cell_type": "code",
   "execution_count": 44,
   "id": "053e5fe2",
   "metadata": {
    "collapsed": true
   },
   "outputs": [],
   "source": [
    "img = hangulFilePathImageRead(filePath)"
   ]
  },
  {
   "cell_type": "code",
   "execution_count": 45,
   "id": "9d412bd6",
   "metadata": {
    "collapsed": true
   },
   "outputs": [
    {
     "data": {
      "text/plain": [
       "600.0"
      ]
     },
     "execution_count": 45,
     "metadata": {},
     "output_type": "execute_result"
    }
   ],
   "source": [
    "float(img.shape[0])"
   ]
  },
  {
   "cell_type": "code",
   "execution_count": 1,
   "id": "fb106462",
   "metadata": {
    "collapsed": true
   },
   "outputs": [],
   "source": [
    "img_size=[]\n",
    "for i in dir_list:\n",
    "    filepath='C:\\\\Users\\\\user\\\\Desktop\\\\NIA_최종데이터_1207\\\\cctv(자동오이)\\\\images\\\\'+i.split(\".\")[0]+'.jpg'\n",
    "    img = hangulFilePathImageRead(filepath)\n",
    "    img_size.append(img.shape)\n",
    "set(img_size)"
   ]
  },
  {
   "cell_type": "markdown",
   "id": "329dbd67",
   "metadata": {},
   "source": [
    "## yolov5 라벨링 text 파일 만들기"
   ]
  },
  {
   "cell_type": "code",
   "execution_count": 47,
   "id": "ba37da48",
   "metadata": {
    "collapsed": true
   },
   "outputs": [],
   "source": [
    "import os\n",
    "import json\n",
    "root_dir = 'C:\\\\Users\\\\user\\\\Desktop\\\\NIA_최종데이터_1207\\\\cctv(자동오이)\\\\label\\\\'\n",
    "dir_list=os.listdir(root_dir)\n",
    "d=0\n",
    "for i in dir_list:\n",
    "    filepath='C:\\\\Users\\\\user\\\\Desktop\\\\NIA_최종데이터_1207\\\\cctv(자동오이)\\\\images\\\\'+i.split(\".\")[0]+'.jpg'\n",
    "    img = hangulFilePathImageRead(filepath)\n",
    "\n",
    "    with open('C:\\\\Users\\\\user\\\\Desktop\\\\NIA_최종데이터_1207\\\\cctv(자동오이)\\\\label\\\\'+i, \"r\",encoding=\"utf-8\",errors='ignore') as json_file:\n",
    "        json_data = json.load(json_file)\n",
    "        x_scale=1/float(json_data[\"description\"][\"width\"])\n",
    "        y_scale=1/float(json_data[\"description\"][\"height\"])\n",
    "        a_list=[]\n",
    "#         x_scale=1/float(img.shape[0])\n",
    "#         y_scale=1/float(img.shape[1])\n",
    "#         json_data = json.load(json_file)\n",
    "#         a_list=[]\n",
    "        \n",
    "        for j in range(len(json_data['result'])):\n",
    "            x=json_data['result'][j].get('x')\n",
    "            y=json_data['result'][j].get('y')\n",
    "            w=json_data['result'][j].get('w')\n",
    "            h=json_data['result'][j].get('h')\n",
    "            a_list.append([(x+w/2.0)*x_scale,(y+h/2.0)*y_scale,w*x_scale,h*y_scale]) # yolo 정규화\n",
    "    \n",
    "    f = open(\"C:\\\\Users\\\\user\\\\Desktop\\\\NIA_최종데이터_1207\\\\cctv(자동오이)\\\\labels\\\\\"+i.split('.')[0]+\".txt\", 'w')\n",
    "    for e in range(len(a_list)):\n",
    "        if json_data['result'][e].get(\"attrb\")==\"꽃\":\n",
    "            f.write(\"1 \")\n",
    "            for r in range(len(a_list[e])):\n",
    "                f.write(str(a_list[e][r]) + \" \")\n",
    "            f.write(\"\\n\")\n",
    "        elif json_data['result'][e].get(\"attrb\")==\"성숙과\":\n",
    "            f.write(\"2 \")\n",
    "            for r in range(len(a_list[e])):\n",
    "                f.write(str(a_list[e][r]) + \" \")\n",
    "            f.write(\"\\n\")\n",
    "        elif json_data['result'][e].get(\"attrb\")==\"미성숙과\":\n",
    "            f.write(\"2 \")\n",
    "            for r in range(len(a_list[e])):\n",
    "                f.write(str(a_list[e][r]) + \" \")\n",
    "            f.write(\"\\n\")\n",
    "        elif json_data['result'][e].get(\"attrb\")==\"생장점\":\n",
    "            f.write(\"0 \")\n",
    "            for r in range(len(a_list[e])):\n",
    "                f.write(str(a_list[e][r]) + \" \")\n",
    "            f.write(\"\\n\")\n",
    "        \n",
    "    f.close()"
   ]
  },
  {
   "cell_type": "markdown",
   "id": "d9320b44",
   "metadata": {},
   "source": [
    "## 이미지 데이터 라벨링 데이터 수량 비교"
   ]
  },
  {
   "cell_type": "code",
   "execution_count": 48,
   "id": "4ba81be8",
   "metadata": {
    "collapsed": true
   },
   "outputs": [],
   "source": [
    "for i in os.listdir('C:\\\\Users\\\\user\\\\Desktop\\\\NIA_최종데이터_1207\\\\cctv(자동오이)\\\\images'):\n",
    "    if os.path.exists(\"C:\\\\Users\\\\user\\\\Desktop\\\\NIA_최종데이터_1207\\\\cctv(자동오이)\\labels\\\\\"+i.split('.')[0]+\".json\"):\n",
    "        print(i)"
   ]
  },
  {
   "cell_type": "markdown",
   "id": "dc72eac0",
   "metadata": {},
   "source": [
    "## yaml 파일 생성"
   ]
  },
  {
   "cell_type": "code",
   "execution_count": 49,
   "id": "0c7d1582",
   "metadata": {
    "collapsed": true
   },
   "outputs": [],
   "source": [
    "import yaml\n",
    "fruits = {'train': 'C:\\\\Users\\\\user\\\\Desktop\\\\NIA_최종데이터_1207\\\\cctv(자동오이)\\\\train.txt',\n",
    "          'val': 'C:\\\\Users\\\\user\\\\Desktop\\\\NIA_최종데이터_1207\\\\cctv(자동오이)\\\\val.txt',\n",
    "          'nc': '3',\n",
    "          'names':['생장점','꽃','과실']}\n",
    "with open('C:\\\\Users\\\\user\\\\Desktop\\\\NIA_최종데이터_1207\\\\cctv(자동오이)\\\\data.yaml', 'w') as f:\n",
    "    yaml.dump(fruits, f)"
   ]
  },
  {
   "cell_type": "markdown",
   "id": "81a3bdf4",
   "metadata": {},
   "source": [
    "## 이미지 데이터 모아놓기"
   ]
  },
  {
   "cell_type": "code",
   "execution_count": 2,
   "id": "7f9c3ef4",
   "metadata": {
    "collapsed": true
   },
   "outputs": [
    {
     "name": "stdout",
     "output_type": "stream",
     "text": [
      "86860\n"
     ]
    }
   ],
   "source": [
    "from glob import glob\n",
    "\n",
    "img_list = glob('C:\\\\Users\\\\user\\\\Desktop\\\\NIA_최종데이터_1207\\\\cctv(자동오이)\\\\images\\\\*.jpg')\n",
    "# img_list2=glob('C:\\\\Users\\\\user\\\\Desktop\\\\오이생육\\\\cucumber\\\\export\\\\images2\\\\*.jpg')\n",
    "# img_list.append(glob('C:\\\\Users\\\\user\\\\Desktop\\\\오이생육\\\\cucumber\\\\export\\\\images2\\\\*.jpg'))\n",
    "# for i in range(len(glob('C:\\\\Users\\\\user\\\\Desktop\\\\오이생육\\\\cucumber\\\\export\\\\images2\\\\*.jpg'))):\n",
    "#     img_list.append(glob('C:\\\\Users\\\\user\\\\Desktop\\\\오이생육\\\\cucumber\\\\export\\\\images2\\\\*.jpg')[i])\n",
    "# print(len(img_list[-1]))\n",
    "# img_list=img_list+img_list2\n",
    "print(len(img_list))"
   ]
  },
  {
   "cell_type": "code",
   "execution_count": 3,
   "id": "2d8a7eac",
   "metadata": {
    "collapsed": true
   },
   "outputs": [
    {
     "name": "stdout",
     "output_type": "stream",
     "text": [
      "C:/Users/user/Desktop/NIA_최종데이터_1207/cctv(자동오이)/images/V003_2_3_1_1_3_1_1_1_0_0_20220728_100_20220925004517.jpg\n"
     ]
    }
   ],
   "source": [
    "for i in range(len(img_list)):\n",
    "    img_list[i]=img_list[i].replace('\\\\','/')\n",
    "print(img_list[0])"
   ]
  },
  {
   "cell_type": "markdown",
   "id": "5e88b503",
   "metadata": {},
   "source": [
    "## test val 데이터 나누기"
   ]
  },
  {
   "cell_type": "code",
   "execution_count": 4,
   "id": "0171e50c",
   "metadata": {
    "collapsed": true
   },
   "outputs": [
    {
     "name": "stdout",
     "output_type": "stream",
     "text": [
      "69488 17372\n"
     ]
    }
   ],
   "source": [
    "from sklearn.model_selection import train_test_split\n",
    "\n",
    "train_img_list, val_img_list = train_test_split(img_list, test_size=0.2, random_state=1000)\n",
    "\n",
    "print(len(train_img_list), len(val_img_list))"
   ]
  },
  {
   "cell_type": "code",
   "execution_count": 5,
   "id": "aef081d8",
   "metadata": {
    "collapsed": true
   },
   "outputs": [],
   "source": [
    "with open('C:\\\\Users\\\\user\\\\Desktop\\\\NIA_최종데이터_1207\\\\cctv(자동오이)\\\\train.txt','w') as f:\n",
    "    f.write('\\n'.join(train_img_list) + '\\n')\n",
    "\n",
    "with open('C:\\\\Users\\\\user\\\\Desktop\\\\NIA_최종데이터_1207\\\\cctv(자동오이)\\\\val.txt','w') as f:\n",
    "    f.write('\\n'.join(val_img_list) + '\\n')\n"
   ]
  },
  {
   "cell_type": "code",
   "execution_count": 6,
   "id": "5343bd1e",
   "metadata": {
    "collapsed": true
   },
   "outputs": [
    {
     "name": "stdout",
     "output_type": "stream",
     "text": [
      "{'names': ['생장점', '꽃', '과실'], 'nc': '3', 'train': 'C:\\\\Users\\\\user\\\\Desktop\\\\NIA_최종데이터_1207\\\\cctv(자동오이)\\\\train.txt', 'val': 'C:\\\\Users\\\\user\\\\Desktop\\\\NIA_최종데이터_1207\\\\cctv(자동오이)\\\\val.txt'}\n",
      "{'names': ['생장점', '꽃', '과실'], 'nc': '3', 'train': 'C:\\\\Users\\\\user\\\\Desktop\\\\NIA_최종데이터_1207\\\\cctv(자동오이)\\\\train.txt', 'val': 'C:\\\\Users\\\\user\\\\Desktop\\\\NIA_최종데이터_1207\\\\cctv(자동오이)\\\\val.txt'}\n"
     ]
    }
   ],
   "source": [
    "import yaml\n",
    "with open('C:\\\\Users\\\\user\\\\Desktop\\\\NIA_최종데이터_1207\\\\cctv(자동오이)\\\\data.yaml', 'r') as f:\n",
    "    data = yaml.load(f,Loader=yaml.FullLoader)\n",
    "\n",
    "print(data)\n",
    "\n",
    "data['train'] = 'C:\\\\Users\\\\user\\\\Desktop\\\\NIA_최종데이터_1207\\\\cctv(자동오이)\\\\train.txt'\n",
    "data['val'] = 'C:\\\\Users\\\\user\\\\Desktop\\\\NIA_최종데이터_1207\\\\cctv(자동오이)\\\\val.txt'\n",
    "data['nc'] = '3'\n",
    "data['names'] = ['생장점','꽃','과실']\n",
    "\n",
    "\n",
    "with open('C:\\\\Users\\\\user\\\\Desktop\\\\NIA_최종데이터_1207\\\\cctv(자동오이)\\\\data.yaml', 'w') as f:\n",
    "    yaml.dump(data, f)\n",
    "\n",
    "print(data)"
   ]
  },
  {
   "cell_type": "markdown",
   "id": "fdf6c1ca",
   "metadata": {},
   "source": [
    "## 비어있는 파일 삭제"
   ]
  },
  {
   "cell_type": "code",
   "execution_count": null,
   "id": "1d917d20",
   "metadata": {
    "collapsed": true
   },
   "outputs": [],
   "source": [
    "# import os\n",
    "\n",
    "# def file_is_empty(path):\n",
    "#     return os.stat(path).st_size==0\n",
    "\n",
    "# file0=os.listdir('C:\\\\Users\\\\user\\\\Desktop\\\\NIA_최종데이터_1207\\\\해충트랩\\\\해충\\\\labels\\\\')\n",
    "# for i in file0:\n",
    "#     print(i)\n",
    "#     if file_is_empty('C:\\\\Users\\\\user\\\\Desktop\\\\NIA_최종데이터_1207\\\\해충트랩\\\\해충\\\\labels\\\\'+i):\n",
    "#         os.remove('C:\\\\Users\\\\user\\\\Desktop\\\\NIA_최종데이터_1207\\\\해충트랩\\\\해충\\\\labels\\\\'+i)"
   ]
  },
  {
   "cell_type": "markdown",
   "id": "69a89f3e",
   "metadata": {},
   "source": [
    "# yolov5"
   ]
  },
  {
   "cell_type": "code",
   "execution_count": 7,
   "id": "8da5c18f",
   "metadata": {
    "collapsed": true
   },
   "outputs": [],
   "source": [
    "import torch"
   ]
  },
  {
   "cell_type": "code",
   "execution_count": 8,
   "id": "50cb0edf",
   "metadata": {
    "collapsed": true
   },
   "outputs": [
    {
     "name": "stdout",
     "output_type": "stream",
     "text": [
      "True\n",
      "학습진행기기 cuda:0\n"
     ]
    },
    {
     "data": {
      "text/plain": [
       "'NVIDIA GeForce RTX 3090 Ti'"
      ]
     },
     "execution_count": 8,
     "metadata": {},
     "output_type": "execute_result"
    }
   ],
   "source": [
    "USE_CUDA= torch.cuda.is_available()\n",
    "print(USE_CUDA)\n",
    "device=torch.device('cuda:0' if USE_CUDA else 'cpu')\n",
    "print('학습진행기기',device)\n",
    "torch.cuda.get_device_name(0)"
   ]
  },
  {
   "cell_type": "code",
   "execution_count": null,
   "id": "e8874ed1",
   "metadata": {
    "collapsed": true
   },
   "outputs": [],
   "source": [
    "pwd"
   ]
  },
  {
   "cell_type": "code",
   "execution_count": null,
   "id": "a6e55aee",
   "metadata": {
    "collapsed": true
   },
   "outputs": [],
   "source": [
    "# %cd /content/drive/MyDrive/yolov5/\n",
    "\n",
    "!python train.py --img 800 --batch 64 --epochs 20  --data C:\\\\Users\\\\user\\\\Desktop\\\\NIA_최종데이터_1207\\\\cctv(자동오이)\\\\data.yaml --seed 2000 --weights C:\\\\Users\\\\user\\\\Desktop\\\\NIA_최종데이터_1207\\\\yolov5\\\\runs\\\\train\\\\auto1220_results\\\\weights\\\\best.pt --name auto_results --device 0,1\n"
   ]
  },
  {
   "cell_type": "code",
   "execution_count": null,
   "id": "c610d8a8",
   "metadata": {
    "collapsed": true
   },
   "outputs": [],
   "source": [
    "os.chdir('C:\\\\Users\\\\user\\\\Desktop\\\\NIA_최종데이터_1207')"
   ]
  },
  {
   "cell_type": "code",
   "execution_count": null,
   "id": "c74a9a52",
   "metadata": {
    "collapsed": true
   },
   "outputs": [],
   "source": [
    "pwd"
   ]
  },
  {
   "cell_type": "code",
   "execution_count": null,
   "id": "565cfc64",
   "metadata": {
    "collapsed": true
   },
   "outputs": [],
   "source": [
    "%cd C:/Users/user/Desktop/NIA_최종데이터_1207/\n",
    "!git clone https://github.com/ultralytics/yolov5.git"
   ]
  },
  {
   "cell_type": "code",
   "execution_count": null,
   "id": "f59e8904",
   "metadata": {
    "collapsed": true
   },
   "outputs": [],
   "source": [
    "pwd"
   ]
  },
  {
   "cell_type": "markdown",
   "id": "c8b37a62",
   "metadata": {},
   "source": [
    "## 이미지 크기 통일"
   ]
  },
  {
   "cell_type": "code",
   "execution_count": null,
   "id": "12858e50",
   "metadata": {
    "collapsed": true
   },
   "outputs": [],
   "source": [
    "\n",
    "import os\n",
    "import glob\n",
    "from PIL import Image\n",
    "\n",
    "files = glob.glob('C:\\\\Users\\\\user\\\\Desktop\\\\NIA_최종데이터_1207\\\\cctv(자동오이)\\\\images\\\\*')\n",
    "#len(files)\n",
    "for f in files:\n",
    "    title, ext = os.path.splitext(f)\n",
    "    print(f)\n",
    "    if ext in ['.JPG', '.png','.jpg','.PNG']:\n",
    "        img = Image.open(f)\n",
    "        print(img)\n",
    "        img_resize = img.resize((640,640))\n",
    "        print(title + ext)\n",
    "        img_resize.save(title + ext)\n"
   ]
  },
  {
   "cell_type": "code",
   "execution_count": null,
   "id": "5bf5d598",
   "metadata": {
    "collapsed": true
   },
   "outputs": [],
   "source": [
    "%cd C:/Users/user/Desktop/NIA_최종데이터_1207/yolov5\n",
    "!python val.py --weights C:\\\\Users\\\\user\\\\Desktop\\\\farmhannong\\\\timeauto\\\\yolov5\\\\runs\\\\train\\\\cctv1102_yolov5s_results2\\\\weights\\\\best.pt --data C:\\\\Users\\\\user\\\\Desktop\\\\farmhannong\\\\timeauto\\\\export\\\\data.yaml --img 256 --half --name cctv자동_1220 \n"
   ]
  },
  {
   "cell_type": "code",
   "execution_count": null,
   "id": "83e3e877",
   "metadata": {
    "collapsed": true
   },
   "outputs": [],
   "source": [
    "pwd"
   ]
  },
  {
   "cell_type": "code",
   "execution_count": null,
   "id": "0fcf17e0",
   "metadata": {
    "collapsed": true
   },
   "outputs": [],
   "source": [
    "%load_ext tensorboard\n",
    "%tensorboard --logdir yolov5/runs/"
   ]
  },
  {
   "cell_type": "code",
   "execution_count": null,
   "id": "f980cac6",
   "metadata": {
    "collapsed": true
   },
   "outputs": [],
   "source": [
    "python ./yolov5/detect.py --weights ./yolov5/runs/train// \\\n",
    "                           --source ./test_data/images \\\n",
    "                           --save-txt \\\n",
    "                           --save-conf"
   ]
  }
 ],
 "metadata": {
  "kernelspec": {
   "display_name": "yolov5",
   "language": "python",
   "name": "yolov5"
  },
  "language_info": {
   "codemirror_mode": {
    "name": "ipython",
    "version": 3
   },
   "file_extension": ".py",
   "mimetype": "text/x-python",
   "name": "python",
   "nbconvert_exporter": "python",
   "pygments_lexer": "ipython3",
   "version": "3.8.13"
  }
 },
 "nbformat": 4,
 "nbformat_minor": 5
}
